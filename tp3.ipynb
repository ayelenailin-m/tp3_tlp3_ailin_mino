{
 "cells": [
  {
   "cell_type": "markdown",
   "id": "498731c6",
   "metadata": {},
   "source": [
    "# Trabajo Practico n3 - Trabajando con Lists y Sets.\n",
    "## Criterios de evaluación.\n",
    "\n",
    "* Se deben utilizar nombres de variables descriptivos y claros (Utilizar la nomeclatura correspondiente para los nombres de variables).\n",
    "* Comentarios claros y concisos que expliquen el propósito de cada sección del código.\n",
    "* Utilizar mensajes de commit **descriptivos**. (Puedes utilizar la extension CONVENTIONAL COMMIT de VS-CODE). \n",
    "* Entrega en tiempo y forma.\n",
    "* Todo el código desarrollado debe ser subido a un repositorio en GitHub (el nombre del repositorio de seguir la siguiente estructura: tp3_tlp3_nombre_apellido).\n",
    "* Para resolver las actividades se debe insertar casillas de codigo entre cada actividad del cuaderno de Jupyter\n",
    "* El repositorio de GitHub debe incluir un archivo README.md con las instrucciones necesarias para la correcta ejecución del código.\n",
    "\n",
    "### ¡Importante!\n",
    "**El incumplimiento de los criterios de evaluación restará puntos en la nota final del práctico!**"
   ]
  },
  {
   "cell_type": "markdown",
   "id": "b361a7b6",
   "metadata": {},
   "source": [
    "### Actividad 1: \n",
    "Suma de todos los elementos de una lista, utilizando bucles repetitivos (for, while)."
   ]
  },
  {
   "cell_type": "code",
   "execution_count": 5,
   "id": "26009294",
   "metadata": {},
   "outputs": [
    {
     "name": "stdout",
     "output_type": "stream",
     "text": [
      "Suma total: 204\n"
     ]
    }
   ],
   "source": [
    "\n",
    "# todo:\n",
    "\n",
    "numbers = [14, 23, 34, 48, 85]\n",
    "\n",
    "total_suma = 0\n",
    "\n",
    "# recorrer la lista con for\n",
    "for number in numbers:\n",
    "    total_suma += number # suma cada elemento \n",
    "\n",
    "# mostrar el resultado\n",
    "print(f\"Suma total: {total_suma}\")"
   ]
  },
  {
   "cell_type": "markdown",
   "id": "0c239195",
   "metadata": {},
   "source": [
    "### Actividad 2: \n",
    "Encontrar el número más grande en una lista, utilizando bucles repetitivos (for, while)."
   ]
  },
  {
   "cell_type": "code",
   "execution_count": 4,
   "id": "3611d25a",
   "metadata": {},
   "outputs": [
    {
     "name": "stdout",
     "output_type": "stream",
     "text": [
      "Lista: [68, 16, 34, 58, 90]\n",
      "El número más grande es: 90\n"
     ]
    }
   ],
   "source": [
    "\n",
    "# todo:\n",
    "\n",
    "from random import randint\n",
    "random_numbers =[randint(1, 100) for i in range(5)]\n",
    "\n",
    "# mostrar la lista\n",
    "print(f\"Lista: {random_numbers}\")\n",
    "\n",
    "max_number = random_numbers[0]\n",
    "\n",
    "# recorrer la lista\n",
    "for number in random_numbers:\n",
    "    if number > max_number:\n",
    "        max_number = number # actualiza si encuentra uno mayor\n",
    "\n",
    "# mostrar el maximo\n",
    "print(f\"El número más grande es: {max_number}\")"
   ]
  },
  {
   "cell_type": "markdown",
   "id": "70a24b97",
   "metadata": {},
   "source": [
    "### Actividad 3:\n",
    "Contar cuántas veces aparece un número específico. Utiliza estructuras repetitivas para la resolucion de este ejercicio. "
   ]
  },
  {
   "cell_type": "code",
   "execution_count": 24,
   "id": "a9c8ebc7",
   "metadata": {},
   "outputs": [
    {
     "name": "stdout",
     "output_type": "stream",
     "text": [
      "lista: [183, 62, 115, 16, 63, 149, 104, 151, 76, 46, 161, 178, 78, 24, 93, 113, 84, 46, 169, 143]\n",
      "El numro 57 apareción 0 veces en la lista\n"
     ]
    }
   ],
   "source": [
    "\n",
    "# todo:\n",
    "\n",
    "lists = [randint(1, 200) for i in range(20)]\n",
    "\n",
    "# mostrar la lista\n",
    "print(f\"lista: {lists}\")\n",
    "\n",
    "# numero que se va a contar\n",
    "numero_a_contar = randint(1, 200)\n",
    "\n",
    "contador = 0\n",
    "\n",
    "for numero in lists:\n",
    "    if numero == numero_a_contar:\n",
    "        contador += 1\n",
    "\n",
    "# mostrar el resultado\n",
    "print(f\"El numro {numero_a_contar} apareción {contador} veces en la lista\")"
   ]
  },
  {
   "cell_type": "markdown",
   "id": "b8dac397",
   "metadata": {},
   "source": [
    "### Actividad 4: \n",
    "Invertir una lista sin usar reverse() ni [::-1]"
   ]
  },
  {
   "cell_type": "code",
   "execution_count": 41,
   "id": "d04fd492",
   "metadata": {},
   "outputs": [
    {
     "name": "stdout",
     "output_type": "stream",
     "text": [
      "lista: [21, 44, 8, 26, 29, 37, 41, 28]\n",
      "lista invertida: [28, 41, 37, 29, 26, 8, 44, 21]\n"
     ]
    }
   ],
   "source": [
    "\n",
    "# todo:\n",
    "\n",
    "lists_two = [randint(1, 50) for i in range(8)]\n",
    "\n",
    "print(f\"lista: {lists_two}\")\n",
    "\n",
    "lista_invertida = []\n",
    "\n",
    "# recorremos la lista original desde el ultimo indice hasta el primero\n",
    "indice = len(lists_two) -1\n",
    "\n",
    "while indice >= 0:\n",
    "    lista_invertida.append(lists_two[indice])\n",
    "    indice -= 1\n",
    "\n",
    "\n",
    "# mostrar\n",
    "print(f\"lista invertida: {lista_invertida}\")"
   ]
  },
  {
   "cell_type": "markdown",
   "id": "8889d0f2",
   "metadata": {},
   "source": [
    "### Actividad 5:\n",
    "Sumar los elementos de dos listas posición por posición, utilizando solo bucles repetititivos (for,while)."
   ]
  },
  {
   "cell_type": "code",
   "execution_count": 37,
   "id": "bc0ec844",
   "metadata": {},
   "outputs": [
    {
     "name": "stdout",
     "output_type": "stream",
     "text": [
      "resultado: [3, 7, 11, 16, 18]\n"
     ]
    }
   ],
   "source": [
    "\n",
    "# todo:\n",
    "\n",
    "lists_one = [ 2,4,6,7,8 ]\n",
    "lists_two = [ 1,3,5,9,10 ]\n",
    "\n",
    "suma_lista = []\n",
    "\n",
    "# recorrer ambas listas usando el indice\n",
    "for i in range(len(lists_one)):\n",
    "    suma = lists_one[i] + lists_two[i]\n",
    "    suma_lista.append(suma)\n",
    "\n",
    "print(f\"resultado: {suma_lista}\")\n",
    "\n"
   ]
  },
  {
   "cell_type": "markdown",
   "id": "8ce33e6b",
   "metadata": {},
   "source": [
    "### Actividad 6:\n",
    "\n",
    "Escribir un programa que almacene el abecedario en una lista, elimine de la lista las letras que ocupen posiciones múltiplos de 3, y muestre por pantalla la lista resultante."
   ]
  },
  {
   "cell_type": "code",
   "execution_count": null,
   "id": "b07326e2",
   "metadata": {},
   "outputs": [
    {
     "name": "stdout",
     "output_type": "stream",
     "text": [
      "abecedario: ['a', 'b', 'c', 'd', 'e', 'f', 'g', 'h', 'i', 'j', 'k', 'l', 'm', 'n', 'o', 'p', 'q', 'r', 's', 't', 'u', 'v', 'w', 'x', 'y', 'z']\n",
      "abecedario filtrado: ['a', 'b', 'd', 'e', 'g', 'h', 'j', 'k', 'm', 'n', 'p', 'q', 's', 't', 'v', 'w', 'y', 'z']\n"
     ]
    }
   ],
   "source": [
    "\n",
    "# todo:\n",
    "import string\n",
    "\n",
    "# se obtiene el abecedario en una lista\n",
    "abecedario = list(string.ascii_lowercase)\n",
    "\n",
    "print(f\"abecedario: {abecedario}\")\n",
    "\n",
    "filtro_abecedario = []\n",
    "\n",
    "# recorrer y guardar solo las letras que no estén en posicion multiple de 3\n",
    "for i in range(len(abecedario)):\n",
    "    if (i + 1) % 3 != 0:\n",
    "        filtro_abecedario.append(abecedario[i])\n",
    "\n",
    "#mostramos\n",
    "print(f\"abecedario filtrado: {filtro_abecedario}\")"
   ]
  },
  {
   "cell_type": "markdown",
   "id": "5bfeb4b5",
   "metadata": {},
   "source": [
    "### Actividad 7:\n",
    "\n",
    "Escribir un programa que pida al usuario una palabra y muestre por pantalla si es un palíndromo (una palabra que se escribe de la misma forma al derecho y al reves)."
   ]
  },
  {
   "cell_type": "code",
   "execution_count": null,
   "id": "2365afcc",
   "metadata": {},
   "outputs": [],
   "source": [
    "\n",
    "# todo:"
   ]
  },
  {
   "cell_type": "markdown",
   "id": "ed8b51be",
   "metadata": {},
   "source": [
    "### Actividad 8:\n",
    "\n",
    "Teniendo en cuenta el conjunto 1 y el conjunto 2, sin usar el operador de intersección &, calcular la intersección de dichos conjuntos."
   ]
  },
  {
   "cell_type": "code",
   "execution_count": null,
   "id": "21a434b9",
   "metadata": {},
   "outputs": [],
   "source": [
    "conjunto1 = {1, 2, 3, 4}\n",
    "conjunto2 = {3, 4, 5, 6}\n",
    "# todo:"
   ]
  },
  {
   "cell_type": "markdown",
   "id": "31b460dc",
   "metadata": {},
   "source": [
    "### Actividad 9:\n",
    "Eliminar duplicados de una lista usando un set."
   ]
  },
  {
   "cell_type": "code",
   "execution_count": null,
   "id": "0ef62008",
   "metadata": {},
   "outputs": [
    {
     "name": "stdout",
     "output_type": "stream",
     "text": [
      "lista original: [1, 2, 6, 9, 2, 89, 2, 3, 4, 4, 4, 4, 5]\n",
      "lista sin duplicados: [1, 2, 3, 4, 5, 6, 9, 89]\n"
     ]
    }
   ],
   "source": [
    "\n",
    "# todo:\n",
    "lista = [1, 2, 6,9,2,89, 2, 3, 4,4,4, 4, 5]\n",
    "\n",
    "print(f\"lista original: {lista}\")\n",
    "\n",
    "# quitamos los elementos repetidos con set \n",
    "lista_sin_duplicados = list(set(lista))\n",
    "\n",
    "print(f\"lista sin duplicados: {lista_sin_duplicados}\")"
   ]
  },
  {
   "cell_type": "markdown",
   "id": "075f1f2c",
   "metadata": {},
   "source": [
    "### Actividad 10:\n",
    "\n",
    "Escribir un programa que cree 2 matrices y realice su multiplicacion."
   ]
  },
  {
   "cell_type": "code",
   "execution_count": null,
   "id": "4c1fd0e1",
   "metadata": {},
   "outputs": [],
   "source": [
    "\n",
    "# todo:"
   ]
  }
 ],
 "metadata": {
  "kernelspec": {
   "display_name": "Python 3",
   "language": "python",
   "name": "python3"
  },
  "language_info": {
   "codemirror_mode": {
    "name": "ipython",
    "version": 3
   },
   "file_extension": ".py",
   "mimetype": "text/x-python",
   "name": "python",
   "nbconvert_exporter": "python",
   "pygments_lexer": "ipython3",
   "version": "3.12.9"
  }
 },
 "nbformat": 4,
 "nbformat_minor": 5
}
